{
  "nbformat": 4,
  "nbformat_minor": 0,
  "metadata": {
    "colab": {
      "name": "Untitled0.ipynb",
      "provenance": [],
      "authorship_tag": "ABX9TyNxPaMf7jArsk86OC43qztJ",
      "include_colab_link": true
    },
    "kernelspec": {
      "name": "python3",
      "display_name": "Python 3"
    }
  },
  "cells": [
    {
      "cell_type": "markdown",
      "metadata": {
        "id": "view-in-github",
        "colab_type": "text"
      },
      "source": [
        "<a href=\"https://colab.research.google.com/github/Dhruv9839/Assignment-1/blob/main/Untitled0.ipynb\" target=\"_parent\"><img src=\"https://colab.research.google.com/assets/colab-badge.svg\" alt=\"Open In Colab\"/></a>"
      ]
    },
    {
      "cell_type": "markdown",
      "metadata": {
        "id": "E4Fmi5W5NOgT"
      },
      "source": [
        "Answer 1.Option B.Rainbow"
      ]
    },
    {
      "cell_type": "markdown",
      "metadata": {
        "id": "0eD389LZNaFE"
      },
      "source": [
        "Answer 2."
      ]
    },
    {
      "cell_type": "code",
      "metadata": {
        "id": "GTm9e4tVK-C0",
        "outputId": "88ee71ce-32e1-49d7-8a06-ae1b4f1ae20e",
        "colab": {
          "base_uri": "https://localhost:8080/"
        }
      },
      "source": [
        "print(\"LETS UPGRADE\")"
      ],
      "execution_count": 5,
      "outputs": [
        {
          "output_type": "stream",
          "text": [
            "LETS UPGRADE\n"
          ],
          "name": "stdout"
        }
      ]
    },
    {
      "cell_type": "markdown",
      "metadata": {
        "id": "ouzvsEX9OegN"
      },
      "source": [
        "Answer 3."
      ]
    },
    {
      "cell_type": "code",
      "metadata": {
        "id": "5IEYswneL4dA",
        "outputId": "83773143-c6f2-4e13-b1ba-76241c43ca7d",
        "colab": {
          "base_uri": "https://localhost:8080/"
        }
      },
      "source": [
        "cp = int(input())\n",
        "sp= int(input())\n",
        "if cp> sp:\n",
        "  print(\"Loss\")\n",
        "else:\n",
        "  print(\"Profit\")  "
      ],
      "execution_count": 9,
      "outputs": [
        {
          "output_type": "stream",
          "text": [
            "20\n",
            "30\n",
            "Profit\n"
          ],
          "name": "stdout"
        }
      ]
    },
    {
      "cell_type": "markdown",
      "metadata": {
        "id": "16s1RAEKNNhA"
      },
      "source": [
        "Answer 4.\n"
      ]
    },
    {
      "cell_type": "code",
      "metadata": {
        "id": "Pz7PCnFENjA4",
        "outputId": "d2f2f58b-ec4c-47f5-9ee2-0cea9633e2fb",
        "colab": {
          "base_uri": "https://localhost:8080/"
        }
      },
      "source": [
        "EU = int(input())\n",
        "RP = EU * 80\n",
        "print(RP)"
      ],
      "execution_count": 10,
      "outputs": [
        {
          "output_type": "stream",
          "text": [
            "20\n",
            "1600\n"
          ],
          "name": "stdout"
        }
      ]
    }
  ]
}